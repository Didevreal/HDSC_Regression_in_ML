{
 "cells": [
  {
   "cell_type": "code",
   "execution_count": 1,
   "id": "75ec7449",
   "metadata": {},
   "outputs": [],
   "source": [
    "import pandas as pd\n",
    "import numpy as np\n",
    "import seaborn as sns"
   ]
  },
  {
   "cell_type": "code",
   "execution_count": 2,
   "id": "e2c2eba8",
   "metadata": {},
   "outputs": [
    {
     "data": {
      "text/html": [
       "<div>\n",
       "<style scoped>\n",
       "    .dataframe tbody tr th:only-of-type {\n",
       "        vertical-align: middle;\n",
       "    }\n",
       "\n",
       "    .dataframe tbody tr th {\n",
       "        vertical-align: top;\n",
       "    }\n",
       "\n",
       "    .dataframe thead th {\n",
       "        text-align: right;\n",
       "    }\n",
       "</style>\n",
       "<table border=\"1\" class=\"dataframe\">\n",
       "  <thead>\n",
       "    <tr style=\"text-align: right;\">\n",
       "      <th></th>\n",
       "      <th>date</th>\n",
       "      <th>Appliances</th>\n",
       "      <th>lights</th>\n",
       "      <th>T1</th>\n",
       "      <th>RH_1</th>\n",
       "      <th>T2</th>\n",
       "      <th>RH_2</th>\n",
       "      <th>T3</th>\n",
       "      <th>RH_3</th>\n",
       "      <th>T4</th>\n",
       "      <th>...</th>\n",
       "      <th>T9</th>\n",
       "      <th>RH_9</th>\n",
       "      <th>T_out</th>\n",
       "      <th>Press_mm_hg</th>\n",
       "      <th>RH_out</th>\n",
       "      <th>Windspeed</th>\n",
       "      <th>Visibility</th>\n",
       "      <th>Tdewpoint</th>\n",
       "      <th>rv1</th>\n",
       "      <th>rv2</th>\n",
       "    </tr>\n",
       "  </thead>\n",
       "  <tbody>\n",
       "    <tr>\n",
       "      <th>0</th>\n",
       "      <td>2016-01-11 17:00:00</td>\n",
       "      <td>60</td>\n",
       "      <td>30</td>\n",
       "      <td>19.89</td>\n",
       "      <td>47.596667</td>\n",
       "      <td>19.2</td>\n",
       "      <td>44.790000</td>\n",
       "      <td>19.79</td>\n",
       "      <td>44.730000</td>\n",
       "      <td>19.000000</td>\n",
       "      <td>...</td>\n",
       "      <td>17.033333</td>\n",
       "      <td>45.53</td>\n",
       "      <td>6.600000</td>\n",
       "      <td>733.5</td>\n",
       "      <td>92.0</td>\n",
       "      <td>7.000000</td>\n",
       "      <td>63.000000</td>\n",
       "      <td>5.3</td>\n",
       "      <td>13.275433</td>\n",
       "      <td>13.275433</td>\n",
       "    </tr>\n",
       "    <tr>\n",
       "      <th>1</th>\n",
       "      <td>2016-01-11 17:10:00</td>\n",
       "      <td>60</td>\n",
       "      <td>30</td>\n",
       "      <td>19.89</td>\n",
       "      <td>46.693333</td>\n",
       "      <td>19.2</td>\n",
       "      <td>44.722500</td>\n",
       "      <td>19.79</td>\n",
       "      <td>44.790000</td>\n",
       "      <td>19.000000</td>\n",
       "      <td>...</td>\n",
       "      <td>17.066667</td>\n",
       "      <td>45.56</td>\n",
       "      <td>6.483333</td>\n",
       "      <td>733.6</td>\n",
       "      <td>92.0</td>\n",
       "      <td>6.666667</td>\n",
       "      <td>59.166667</td>\n",
       "      <td>5.2</td>\n",
       "      <td>18.606195</td>\n",
       "      <td>18.606195</td>\n",
       "    </tr>\n",
       "    <tr>\n",
       "      <th>2</th>\n",
       "      <td>2016-01-11 17:20:00</td>\n",
       "      <td>50</td>\n",
       "      <td>30</td>\n",
       "      <td>19.89</td>\n",
       "      <td>46.300000</td>\n",
       "      <td>19.2</td>\n",
       "      <td>44.626667</td>\n",
       "      <td>19.79</td>\n",
       "      <td>44.933333</td>\n",
       "      <td>18.926667</td>\n",
       "      <td>...</td>\n",
       "      <td>17.000000</td>\n",
       "      <td>45.50</td>\n",
       "      <td>6.366667</td>\n",
       "      <td>733.7</td>\n",
       "      <td>92.0</td>\n",
       "      <td>6.333333</td>\n",
       "      <td>55.333333</td>\n",
       "      <td>5.1</td>\n",
       "      <td>28.642668</td>\n",
       "      <td>28.642668</td>\n",
       "    </tr>\n",
       "    <tr>\n",
       "      <th>3</th>\n",
       "      <td>2016-01-11 17:30:00</td>\n",
       "      <td>50</td>\n",
       "      <td>40</td>\n",
       "      <td>19.89</td>\n",
       "      <td>46.066667</td>\n",
       "      <td>19.2</td>\n",
       "      <td>44.590000</td>\n",
       "      <td>19.79</td>\n",
       "      <td>45.000000</td>\n",
       "      <td>18.890000</td>\n",
       "      <td>...</td>\n",
       "      <td>17.000000</td>\n",
       "      <td>45.40</td>\n",
       "      <td>6.250000</td>\n",
       "      <td>733.8</td>\n",
       "      <td>92.0</td>\n",
       "      <td>6.000000</td>\n",
       "      <td>51.500000</td>\n",
       "      <td>5.0</td>\n",
       "      <td>45.410389</td>\n",
       "      <td>45.410389</td>\n",
       "    </tr>\n",
       "    <tr>\n",
       "      <th>4</th>\n",
       "      <td>2016-01-11 17:40:00</td>\n",
       "      <td>60</td>\n",
       "      <td>40</td>\n",
       "      <td>19.89</td>\n",
       "      <td>46.333333</td>\n",
       "      <td>19.2</td>\n",
       "      <td>44.530000</td>\n",
       "      <td>19.79</td>\n",
       "      <td>45.000000</td>\n",
       "      <td>18.890000</td>\n",
       "      <td>...</td>\n",
       "      <td>17.000000</td>\n",
       "      <td>45.40</td>\n",
       "      <td>6.133333</td>\n",
       "      <td>733.9</td>\n",
       "      <td>92.0</td>\n",
       "      <td>5.666667</td>\n",
       "      <td>47.666667</td>\n",
       "      <td>4.9</td>\n",
       "      <td>10.084097</td>\n",
       "      <td>10.084097</td>\n",
       "    </tr>\n",
       "  </tbody>\n",
       "</table>\n",
       "<p>5 rows × 29 columns</p>\n",
       "</div>"
      ],
      "text/plain": [
       "                  date  Appliances  lights     T1       RH_1    T2       RH_2  \\\n",
       "0  2016-01-11 17:00:00          60      30  19.89  47.596667  19.2  44.790000   \n",
       "1  2016-01-11 17:10:00          60      30  19.89  46.693333  19.2  44.722500   \n",
       "2  2016-01-11 17:20:00          50      30  19.89  46.300000  19.2  44.626667   \n",
       "3  2016-01-11 17:30:00          50      40  19.89  46.066667  19.2  44.590000   \n",
       "4  2016-01-11 17:40:00          60      40  19.89  46.333333  19.2  44.530000   \n",
       "\n",
       "      T3       RH_3         T4  ...         T9   RH_9     T_out  Press_mm_hg  \\\n",
       "0  19.79  44.730000  19.000000  ...  17.033333  45.53  6.600000        733.5   \n",
       "1  19.79  44.790000  19.000000  ...  17.066667  45.56  6.483333        733.6   \n",
       "2  19.79  44.933333  18.926667  ...  17.000000  45.50  6.366667        733.7   \n",
       "3  19.79  45.000000  18.890000  ...  17.000000  45.40  6.250000        733.8   \n",
       "4  19.79  45.000000  18.890000  ...  17.000000  45.40  6.133333        733.9   \n",
       "\n",
       "   RH_out  Windspeed  Visibility  Tdewpoint        rv1        rv2  \n",
       "0    92.0   7.000000   63.000000        5.3  13.275433  13.275433  \n",
       "1    92.0   6.666667   59.166667        5.2  18.606195  18.606195  \n",
       "2    92.0   6.333333   55.333333        5.1  28.642668  28.642668  \n",
       "3    92.0   6.000000   51.500000        5.0  45.410389  45.410389  \n",
       "4    92.0   5.666667   47.666667        4.9  10.084097  10.084097  \n",
       "\n",
       "[5 rows x 29 columns]"
      ]
     },
     "execution_count": 2,
     "metadata": {},
     "output_type": "execute_result"
    }
   ],
   "source": [
    "df = pd.read_csv(r\"C:\\Users\\Admin\\Desktop\\DataScienceInternship\\HAMOYE\\HAMOYE summer '22\\Stage B\\energydata_complete.csv\")\n",
    "df.head()"
   ]
  },
  {
   "cell_type": "code",
   "execution_count": 3,
   "id": "96df8b95",
   "metadata": {},
   "outputs": [
    {
     "data": {
      "text/plain": [
       "(19735, 29)"
      ]
     },
     "execution_count": 3,
     "metadata": {},
     "output_type": "execute_result"
    }
   ],
   "source": [
    "#dataset size\n",
    "df.shape"
   ]
  },
  {
   "cell_type": "code",
   "execution_count": 4,
   "id": "ca984fa6",
   "metadata": {},
   "outputs": [],
   "source": [
    "#renaming the features\n",
    "columns = {\n",
    "    \"T1\" : \"Temp_kitchen\", \"RH_1\" : \"Hum_kitchen\", \"T2\" : \"Temp_living_room\",\n",
    "    \"RH_2\" : \"Hum_living_room\", \"T3\" : \"Temp_laundry_room\", \"RH_3\" : \"Hum_aundry_room\",\n",
    "    \"T4\" : \"Temp_office_room\", \"RH_4\" : \"Hum_office_room\", \"T5\" : \"Temp_bathroom\", \n",
    "    \"RH_5\" : \"Hum_bathroom\", \"T6\" : \"Temp_out(NS)\", \"RH_6\" : \"Hum_out(NS)\", \n",
    "    \"T7\" : \"Temp_ironing_room\", \"RH_7\" : \"Hum_ironing_room\", \"T8\" : \"Temp_teenager_room\", \n",
    "    \"RH_8\" : \"Hum_teenager_room\", \"T9\" : \"Temp_parents_room\", \"RH_9\" : \"Hum_parents_room\", \n",
    "    \"T_out\" : \"Temp_out(CWS)\", \"Press_mm_hg\" : \"Press_mm_hg(CWS)\", \"RH_out\" : \"RH_out(CWS)\", \n",
    "    \"Windspeed\" : \"Windspeed(CWS)\", \"Visibility\" : \"Visibility(CWS)\", \"Tdewpoint\" : \"Tdewpoint(CWS)\", \n",
    "    \"rv1\" : \"random_var_1\", \"rv2\" : \"random_var_2\"\n",
    "}"
   ]
  },
  {
   "cell_type": "code",
   "execution_count": 5,
   "id": "444922e4",
   "metadata": {},
   "outputs": [],
   "source": [
    "df = df.rename(columns = columns)"
   ]
  },
  {
   "cell_type": "code",
   "execution_count": 6,
   "id": "a50eec6c",
   "metadata": {},
   "outputs": [
    {
     "data": {
      "text/html": [
       "<div>\n",
       "<style scoped>\n",
       "    .dataframe tbody tr th:only-of-type {\n",
       "        vertical-align: middle;\n",
       "    }\n",
       "\n",
       "    .dataframe tbody tr th {\n",
       "        vertical-align: top;\n",
       "    }\n",
       "\n",
       "    .dataframe thead th {\n",
       "        text-align: right;\n",
       "    }\n",
       "</style>\n",
       "<table border=\"1\" class=\"dataframe\">\n",
       "  <thead>\n",
       "    <tr style=\"text-align: right;\">\n",
       "      <th></th>\n",
       "      <th>date</th>\n",
       "      <th>Appliances</th>\n",
       "      <th>lights</th>\n",
       "      <th>Temp_kitchen</th>\n",
       "      <th>Hum_kitchen</th>\n",
       "      <th>Temp_living_room</th>\n",
       "      <th>Hum_living_room</th>\n",
       "      <th>Temp_laundry_room</th>\n",
       "      <th>Hum_aundry_room</th>\n",
       "      <th>Temp_office_room</th>\n",
       "      <th>...</th>\n",
       "      <th>Temp_parents_room</th>\n",
       "      <th>Hum_parents_room</th>\n",
       "      <th>Temp_out(CWS)</th>\n",
       "      <th>Press_mm_hg(CWS)</th>\n",
       "      <th>RH_out(CWS)</th>\n",
       "      <th>Windspeed(CWS)</th>\n",
       "      <th>Visibility(CWS)</th>\n",
       "      <th>Tdewpoint(CWS)</th>\n",
       "      <th>random_var_1</th>\n",
       "      <th>random_var_2</th>\n",
       "    </tr>\n",
       "  </thead>\n",
       "  <tbody>\n",
       "    <tr>\n",
       "      <th>0</th>\n",
       "      <td>2016-01-11 17:00:00</td>\n",
       "      <td>60</td>\n",
       "      <td>30</td>\n",
       "      <td>19.89</td>\n",
       "      <td>47.596667</td>\n",
       "      <td>19.2</td>\n",
       "      <td>44.7900</td>\n",
       "      <td>19.79</td>\n",
       "      <td>44.73</td>\n",
       "      <td>19.0</td>\n",
       "      <td>...</td>\n",
       "      <td>17.033333</td>\n",
       "      <td>45.53</td>\n",
       "      <td>6.600000</td>\n",
       "      <td>733.5</td>\n",
       "      <td>92.0</td>\n",
       "      <td>7.000000</td>\n",
       "      <td>63.000000</td>\n",
       "      <td>5.3</td>\n",
       "      <td>13.275433</td>\n",
       "      <td>13.275433</td>\n",
       "    </tr>\n",
       "    <tr>\n",
       "      <th>1</th>\n",
       "      <td>2016-01-11 17:10:00</td>\n",
       "      <td>60</td>\n",
       "      <td>30</td>\n",
       "      <td>19.89</td>\n",
       "      <td>46.693333</td>\n",
       "      <td>19.2</td>\n",
       "      <td>44.7225</td>\n",
       "      <td>19.79</td>\n",
       "      <td>44.79</td>\n",
       "      <td>19.0</td>\n",
       "      <td>...</td>\n",
       "      <td>17.066667</td>\n",
       "      <td>45.56</td>\n",
       "      <td>6.483333</td>\n",
       "      <td>733.6</td>\n",
       "      <td>92.0</td>\n",
       "      <td>6.666667</td>\n",
       "      <td>59.166667</td>\n",
       "      <td>5.2</td>\n",
       "      <td>18.606195</td>\n",
       "      <td>18.606195</td>\n",
       "    </tr>\n",
       "  </tbody>\n",
       "</table>\n",
       "<p>2 rows × 29 columns</p>\n",
       "</div>"
      ],
      "text/plain": [
       "                  date  Appliances  lights  Temp_kitchen  Hum_kitchen  \\\n",
       "0  2016-01-11 17:00:00          60      30         19.89    47.596667   \n",
       "1  2016-01-11 17:10:00          60      30         19.89    46.693333   \n",
       "\n",
       "   Temp_living_room  Hum_living_room  Temp_laundry_room  Hum_aundry_room  \\\n",
       "0              19.2          44.7900              19.79            44.73   \n",
       "1              19.2          44.7225              19.79            44.79   \n",
       "\n",
       "   Temp_office_room  ...  Temp_parents_room  Hum_parents_room  Temp_out(CWS)  \\\n",
       "0              19.0  ...          17.033333             45.53       6.600000   \n",
       "1              19.0  ...          17.066667             45.56       6.483333   \n",
       "\n",
       "   Press_mm_hg(CWS)  RH_out(CWS)  Windspeed(CWS)  Visibility(CWS)  \\\n",
       "0             733.5         92.0        7.000000        63.000000   \n",
       "1             733.6         92.0        6.666667        59.166667   \n",
       "\n",
       "   Tdewpoint(CWS)  random_var_1  random_var_2  \n",
       "0             5.3     13.275433     13.275433  \n",
       "1             5.2     18.606195     18.606195  \n",
       "\n",
       "[2 rows x 29 columns]"
      ]
     },
     "execution_count": 6,
     "metadata": {},
     "output_type": "execute_result"
    }
   ],
   "source": [
    "df.head(2)"
   ]
  },
  {
   "cell_type": "code",
   "execution_count": 7,
   "id": "bed50443",
   "metadata": {},
   "outputs": [
    {
     "data": {
      "text/plain": [
       "date                  0\n",
       "Appliances            0\n",
       "lights                0\n",
       "Temp_kitchen          0\n",
       "Hum_kitchen           0\n",
       "Temp_living_room      0\n",
       "Hum_living_room       0\n",
       "Temp_laundry_room     0\n",
       "Hum_aundry_room       0\n",
       "Temp_office_room      0\n",
       "Hum_office_room       0\n",
       "Temp_bathroom         0\n",
       "Hum_bathroom          0\n",
       "Temp_out(NS)          0\n",
       "Hum_out(NS)           0\n",
       "Temp_ironing_room     0\n",
       "Hum_ironing_room      0\n",
       "Temp_teenager_room    0\n",
       "Hum_teenager_room     0\n",
       "Temp_parents_room     0\n",
       "Hum_parents_room      0\n",
       "Temp_out(CWS)         0\n",
       "Press_mm_hg(CWS)      0\n",
       "RH_out(CWS)           0\n",
       "Windspeed(CWS)        0\n",
       "Visibility(CWS)       0\n",
       "Tdewpoint(CWS)        0\n",
       "random_var_1          0\n",
       "random_var_2          0\n",
       "dtype: int64"
      ]
     },
     "execution_count": 7,
     "metadata": {},
     "output_type": "execute_result"
    }
   ],
   "source": [
    "#checking for missing values\n",
    "df.isnull().sum()"
   ]
  },
  {
   "cell_type": "markdown",
   "id": "53eb472b",
   "metadata": {},
   "source": [
    "### Quiz Answers"
   ]
  },
  {
   "cell_type": "markdown",
   "id": "6dd31cc8",
   "metadata": {},
   "source": [
    "### Q12"
   ]
  },
  {
   "cell_type": "code",
   "execution_count": 8,
   "id": "daf4b308",
   "metadata": {},
   "outputs": [],
   "source": [
    "slr_df = df[[\"Temp_living_room\", \"Temp_out(NS)\"]].sample(20, random_state = 2)"
   ]
  },
  {
   "cell_type": "code",
   "execution_count": 9,
   "id": "033bd34e",
   "metadata": {},
   "outputs": [
    {
     "data": {
      "text/plain": [
       "<AxesSubplot:xlabel='Temp_living_room', ylabel='Temp_out(NS)'>"
      ]
     },
     "execution_count": 9,
     "metadata": {},
     "output_type": "execute_result"
    },
    {
     "data": {
      "image/png": "[encoded data removed]",
      "text/plain": [
       "<Figure size 432x288 with 1 Axes>"
      ]
     },
     "metadata": {
      "needs_background": "light"
     },
     "output_type": "display_data"
    }
   ],
   "source": [
    "sns.regplot(x = \"Temp_living_room\", y = \"Temp_out(NS)\", data = slr_df)"
   ]
  },
  {
   "cell_type": "code",
   "execution_count": 10,
   "id": "80f1fcb9",
   "metadata": {},
   "outputs": [
    {
     "data": {
      "text/plain": [
       "-60.14"
      ]
     },
     "execution_count": 10,
     "metadata": {},
     "output_type": "execute_result"
    }
   ],
   "source": [
    "from sklearn.metrics import r2_score\n",
    "r2_score = r2_score(slr_df[\"Temp_living_room\"], slr_df[\"Temp_out(NS)\"])\n",
    "round(r2_score, 2 )"
   ]
  },
  {
   "cell_type": "markdown",
   "id": "c680aaff",
   "metadata": {},
   "source": [
    "### Q13"
   ]
  },
  {
   "cell_type": "code",
   "execution_count": 12,
   "id": "8c1070e4",
   "metadata": {},
   "outputs": [
    {
     "data": {
      "text/html": [
       "<div>\n",
       "<style scoped>\n",
       "    .dataframe tbody tr th:only-of-type {\n",
       "        vertical-align: middle;\n",
       "    }\n",
       "\n",
       "    .dataframe tbody tr th {\n",
       "        vertical-align: top;\n",
       "    }\n",
       "\n",
       "    .dataframe thead th {\n",
       "        text-align: right;\n",
       "    }\n",
       "</style>\n",
       "<table border=\"1\" class=\"dataframe\">\n",
       "  <thead>\n",
       "    <tr style=\"text-align: right;\">\n",
       "      <th></th>\n",
       "      <th>Appliances</th>\n",
       "      <th>Temp_kitchen</th>\n",
       "      <th>Hum_kitchen</th>\n",
       "      <th>Temp_living_room</th>\n",
       "      <th>Hum_living_room</th>\n",
       "      <th>Temp_laundry_room</th>\n",
       "      <th>Hum_aundry_room</th>\n",
       "      <th>Temp_office_room</th>\n",
       "      <th>Hum_office_room</th>\n",
       "      <th>Temp_bathroom</th>\n",
       "      <th>...</th>\n",
       "      <th>Temp_parents_room</th>\n",
       "      <th>Hum_parents_room</th>\n",
       "      <th>Temp_out(CWS)</th>\n",
       "      <th>Press_mm_hg(CWS)</th>\n",
       "      <th>RH_out(CWS)</th>\n",
       "      <th>Windspeed(CWS)</th>\n",
       "      <th>Visibility(CWS)</th>\n",
       "      <th>Tdewpoint(CWS)</th>\n",
       "      <th>random_var_1</th>\n",
       "      <th>random_var_2</th>\n",
       "    </tr>\n",
       "  </thead>\n",
       "  <tbody>\n",
       "    <tr>\n",
       "      <th>0</th>\n",
       "      <td>60</td>\n",
       "      <td>19.89</td>\n",
       "      <td>47.596667</td>\n",
       "      <td>19.2</td>\n",
       "      <td>44.7900</td>\n",
       "      <td>19.79</td>\n",
       "      <td>44.73</td>\n",
       "      <td>19.0</td>\n",
       "      <td>45.566667</td>\n",
       "      <td>17.166667</td>\n",
       "      <td>...</td>\n",
       "      <td>17.033333</td>\n",
       "      <td>45.53</td>\n",
       "      <td>6.600000</td>\n",
       "      <td>733.5</td>\n",
       "      <td>92.0</td>\n",
       "      <td>7.000000</td>\n",
       "      <td>63.000000</td>\n",
       "      <td>5.3</td>\n",
       "      <td>13.275433</td>\n",
       "      <td>13.275433</td>\n",
       "    </tr>\n",
       "    <tr>\n",
       "      <th>1</th>\n",
       "      <td>60</td>\n",
       "      <td>19.89</td>\n",
       "      <td>46.693333</td>\n",
       "      <td>19.2</td>\n",
       "      <td>44.7225</td>\n",
       "      <td>19.79</td>\n",
       "      <td>44.79</td>\n",
       "      <td>19.0</td>\n",
       "      <td>45.992500</td>\n",
       "      <td>17.166667</td>\n",
       "      <td>...</td>\n",
       "      <td>17.066667</td>\n",
       "      <td>45.56</td>\n",
       "      <td>6.483333</td>\n",
       "      <td>733.6</td>\n",
       "      <td>92.0</td>\n",
       "      <td>6.666667</td>\n",
       "      <td>59.166667</td>\n",
       "      <td>5.2</td>\n",
       "      <td>18.606195</td>\n",
       "      <td>18.606195</td>\n",
       "    </tr>\n",
       "  </tbody>\n",
       "</table>\n",
       "<p>2 rows × 27 columns</p>\n",
       "</div>"
      ],
      "text/plain": [
       "   Appliances  Temp_kitchen  Hum_kitchen  Temp_living_room  Hum_living_room  \\\n",
       "0          60         19.89    47.596667              19.2          44.7900   \n",
       "1          60         19.89    46.693333              19.2          44.7225   \n",
       "\n",
       "   Temp_laundry_room  Hum_aundry_room  Temp_office_room  Hum_office_room  \\\n",
       "0              19.79            44.73              19.0        45.566667   \n",
       "1              19.79            44.79              19.0        45.992500   \n",
       "\n",
       "   Temp_bathroom  ...  Temp_parents_room  Hum_parents_room  Temp_out(CWS)  \\\n",
       "0      17.166667  ...          17.033333             45.53       6.600000   \n",
       "1      17.166667  ...          17.066667             45.56       6.483333   \n",
       "\n",
       "   Press_mm_hg(CWS)  RH_out(CWS)  Windspeed(CWS)  Visibility(CWS)  \\\n",
       "0             733.5         92.0        7.000000        63.000000   \n",
       "1             733.6         92.0        6.666667        59.166667   \n",
       "\n",
       "   Tdewpoint(CWS)  random_var_1  random_var_2  \n",
       "0             5.3     13.275433     13.275433  \n",
       "1             5.2     18.606195     18.606195  \n",
       "\n",
       "[2 rows x 27 columns]"
      ]
     },
     "execution_count": 12,
     "metadata": {},
     "output_type": "execute_result"
    }
   ],
   "source": [
    "new_df = df.drop(['date', 'lights'], axis = 1)\n",
    "new_df.head(2)"
   ]
  },
  {
   "cell_type": "code",
   "execution_count": 13,
   "id": "02e9c061",
   "metadata": {},
   "outputs": [],
   "source": [
    "#Normalization\n",
    "from sklearn.preprocessing import MinMaxScaler\n",
    "scaler = MinMaxScaler()\n",
    "normalised_df = pd.DataFrame(scaler.fit_transform(new_df), columns=new_df.columns)\n",
    "features_df = normalised_df.drop(columns=['Appliances'])\n",
    "target_df = normalised_df['Appliances']"
   ]
  },
  {
   "cell_type": "code",
   "execution_count": 14,
   "id": "848b4310",
   "metadata": {},
   "outputs": [],
   "source": [
    "#splitting dataset\n",
    "from sklearn.model_selection import train_test_split\n",
    "x_train, x_test, y_train, y_test = train_test_split(features_df, target_df, test_size= 0.3 , random_state= 42 )"
   ]
  },
  {
   "cell_type": "code",
   "execution_count": 15,
   "id": "5275278b",
   "metadata": {},
   "outputs": [
    {
     "data": {
      "text/plain": [
       "array([0.03322207, 0.24411599, 0.03400024, ..., 0.06844707, 0.10032325,\n",
       "       0.05722198])"
      ]
     },
     "execution_count": 15,
     "metadata": {},
     "output_type": "execute_result"
    }
   ],
   "source": [
    "#Regression Model\n",
    "from sklearn.linear_model import LinearRegression\n",
    "linear_model = LinearRegression()\n",
    "linear_model.fit(x_train, y_train)\n",
    "\n",
    "#predictions\n",
    "predicted_values = linear_model.predict(x_test)\n",
    "predicted_values"
   ]
  },
  {
   "cell_type": "markdown",
   "id": "79bf086b",
   "metadata": {},
   "source": [
    "### Q13,14,15,16"
   ]
  },
  {
   "cell_type": "code",
   "execution_count": 16,
   "id": "46082294",
   "metadata": {},
   "outputs": [
    {
     "name": "stdout",
     "output_type": "stream",
     "text": [
      "Mean Absolute Error: 0.05\n",
      "Residual Sum of Squares: 45.35\n",
      "Root Mean Squared Error: 0.088\n",
      "Coefficient of Determination: 0.15\n"
     ]
    }
   ],
   "source": [
    "#Metric Scores\n",
    "from sklearn.metrics import mean_absolute_error\n",
    "from sklearn.metrics import mean_squared_error\n",
    "from sklearn.metrics import r2_score\n",
    "\n",
    "mae = mean_absolute_error(y_test, predicted_values)\n",
    "print(f'Mean Absolute Error: {round(mae, 2)}')\n",
    "\n",
    "rss = np.sum(np.square(y_test - predicted_values))\n",
    "print(f'Residual Sum of Squares: {round(rss, 2)}')\n",
    "\n",
    "rmse = np.sqrt(mean_squared_error(y_test, predicted_values))\n",
    "print(f'Root Mean Squared Error: {round(rmse, 3)}')\n",
    "\n",
    "r2 = r2_score(y_test, predicted_values)\n",
    "print(f'Coefficient of Determination: {round(r2, 2)}')"
   ]
  },
  {
   "cell_type": "markdown",
   "id": "fb0fa5e4",
   "metadata": {},
   "source": [
    "### Q17"
   ]
  },
  {
   "cell_type": "code",
   "execution_count": 17,
   "id": "2730a6f5",
   "metadata": {},
   "outputs": [
    {
     "data": {
      "text/html": [
       "<div>\n",
       "<style scoped>\n",
       "    .dataframe tbody tr th:only-of-type {\n",
       "        vertical-align: middle;\n",
       "    }\n",
       "\n",
       "    .dataframe tbody tr th {\n",
       "        vertical-align: top;\n",
       "    }\n",
       "\n",
       "    .dataframe thead th {\n",
       "        text-align: right;\n",
       "    }\n",
       "</style>\n",
       "<table border=\"1\" class=\"dataframe\">\n",
       "  <thead>\n",
       "    <tr style=\"text-align: right;\">\n",
       "      <th></th>\n",
       "      <th>Features</th>\n",
       "      <th>Linear_Model_Weight</th>\n",
       "    </tr>\n",
       "  </thead>\n",
       "  <tbody>\n",
       "    <tr>\n",
       "      <th>0</th>\n",
       "      <td>Hum_living_room</td>\n",
       "      <td>-0.456698</td>\n",
       "    </tr>\n",
       "    <tr>\n",
       "      <th>1</th>\n",
       "      <td>Temp_out(CWS)</td>\n",
       "      <td>-0.321860</td>\n",
       "    </tr>\n",
       "    <tr>\n",
       "      <th>2</th>\n",
       "      <td>Temp_living_room</td>\n",
       "      <td>-0.236178</td>\n",
       "    </tr>\n",
       "    <tr>\n",
       "      <th>3</th>\n",
       "      <td>Temp_parents_room</td>\n",
       "      <td>-0.189941</td>\n",
       "    </tr>\n",
       "    <tr>\n",
       "      <th>4</th>\n",
       "      <td>Hum_teenager_room</td>\n",
       "      <td>-0.157595</td>\n",
       "    </tr>\n",
       "    <tr>\n",
       "      <th>5</th>\n",
       "      <td>RH_out(CWS)</td>\n",
       "      <td>-0.077671</td>\n",
       "    </tr>\n",
       "    <tr>\n",
       "      <th>6</th>\n",
       "      <td>Hum_ironing_room</td>\n",
       "      <td>-0.044614</td>\n",
       "    </tr>\n",
       "    <tr>\n",
       "      <th>7</th>\n",
       "      <td>Hum_parents_room</td>\n",
       "      <td>-0.039800</td>\n",
       "    </tr>\n",
       "    <tr>\n",
       "      <th>8</th>\n",
       "      <td>Temp_bathroom</td>\n",
       "      <td>-0.015657</td>\n",
       "    </tr>\n",
       "    <tr>\n",
       "      <th>9</th>\n",
       "      <td>Temp_kitchen</td>\n",
       "      <td>-0.003281</td>\n",
       "    </tr>\n",
       "    <tr>\n",
       "      <th>10</th>\n",
       "      <td>random_var_2</td>\n",
       "      <td>0.000770</td>\n",
       "    </tr>\n",
       "    <tr>\n",
       "      <th>11</th>\n",
       "      <td>random_var_1</td>\n",
       "      <td>0.000770</td>\n",
       "    </tr>\n",
       "    <tr>\n",
       "      <th>12</th>\n",
       "      <td>Press_mm_hg(CWS)</td>\n",
       "      <td>0.006839</td>\n",
       "    </tr>\n",
       "    <tr>\n",
       "      <th>13</th>\n",
       "      <td>Temp_ironing_room</td>\n",
       "      <td>0.010319</td>\n",
       "    </tr>\n",
       "    <tr>\n",
       "      <th>14</th>\n",
       "      <td>Visibility(CWS)</td>\n",
       "      <td>0.012307</td>\n",
       "    </tr>\n",
       "    <tr>\n",
       "      <th>15</th>\n",
       "      <td>Hum_bathroom</td>\n",
       "      <td>0.016006</td>\n",
       "    </tr>\n",
       "    <tr>\n",
       "      <th>16</th>\n",
       "      <td>Hum_office_room</td>\n",
       "      <td>0.026386</td>\n",
       "    </tr>\n",
       "    <tr>\n",
       "      <th>17</th>\n",
       "      <td>Temp_office_room</td>\n",
       "      <td>0.028981</td>\n",
       "    </tr>\n",
       "    <tr>\n",
       "      <th>18</th>\n",
       "      <td>Windspeed(CWS)</td>\n",
       "      <td>0.029183</td>\n",
       "    </tr>\n",
       "    <tr>\n",
       "      <th>19</th>\n",
       "      <td>Hum_out(NS)</td>\n",
       "      <td>0.038049</td>\n",
       "    </tr>\n",
       "    <tr>\n",
       "      <th>20</th>\n",
       "      <td>Hum_aundry_room</td>\n",
       "      <td>0.096048</td>\n",
       "    </tr>\n",
       "    <tr>\n",
       "      <th>21</th>\n",
       "      <td>Temp_teenager_room</td>\n",
       "      <td>0.101995</td>\n",
       "    </tr>\n",
       "    <tr>\n",
       "      <th>22</th>\n",
       "      <td>Tdewpoint(CWS)</td>\n",
       "      <td>0.117758</td>\n",
       "    </tr>\n",
       "    <tr>\n",
       "      <th>23</th>\n",
       "      <td>Temp_out(NS)</td>\n",
       "      <td>0.236425</td>\n",
       "    </tr>\n",
       "    <tr>\n",
       "      <th>24</th>\n",
       "      <td>Temp_laundry_room</td>\n",
       "      <td>0.290627</td>\n",
       "    </tr>\n",
       "    <tr>\n",
       "      <th>25</th>\n",
       "      <td>Hum_kitchen</td>\n",
       "      <td>0.553547</td>\n",
       "    </tr>\n",
       "  </tbody>\n",
       "</table>\n",
       "</div>"
      ],
      "text/plain": [
       "              Features  Linear_Model_Weight\n",
       "0      Hum_living_room            -0.456698\n",
       "1        Temp_out(CWS)            -0.321860\n",
       "2     Temp_living_room            -0.236178\n",
       "3    Temp_parents_room            -0.189941\n",
       "4    Hum_teenager_room            -0.157595\n",
       "5          RH_out(CWS)            -0.077671\n",
       "6     Hum_ironing_room            -0.044614\n",
       "7     Hum_parents_room            -0.039800\n",
       "8        Temp_bathroom            -0.015657\n",
       "9         Temp_kitchen            -0.003281\n",
       "10        random_var_2             0.000770\n",
       "11        random_var_1             0.000770\n",
       "12    Press_mm_hg(CWS)             0.006839\n",
       "13   Temp_ironing_room             0.010319\n",
       "14     Visibility(CWS)             0.012307\n",
       "15        Hum_bathroom             0.016006\n",
       "16     Hum_office_room             0.026386\n",
       "17    Temp_office_room             0.028981\n",
       "18      Windspeed(CWS)             0.029183\n",
       "19         Hum_out(NS)             0.038049\n",
       "20     Hum_aundry_room             0.096048\n",
       "21  Temp_teenager_room             0.101995\n",
       "22      Tdewpoint(CWS)             0.117758\n",
       "23        Temp_out(NS)             0.236425\n",
       "24   Temp_laundry_room             0.290627\n",
       "25         Hum_kitchen             0.553547"
      ]
     },
     "execution_count": 17,
     "metadata": {},
     "output_type": "execute_result"
    }
   ],
   "source": [
    "#feature weight\n",
    "def get_weights_df(model, feat, col_name):\n",
    "    weights = pd.Series(model.coef_, feat.columns).sort_values()\n",
    "    weights_df = pd.DataFrame(weights).reset_index()\n",
    "    weights_df.columns = ['Features' , col_name]\n",
    "    weights_df[col_name]\n",
    "    return weights_df\n",
    "\n",
    "linear_model_weights = get_weights_df(linear_model, x_train, 'Linear_Model_Weight' )\n",
    "linear_model_weights"
   ]
  },
  {
   "cell_type": "markdown",
   "id": "62b5e7d8",
   "metadata": {},
   "source": [
    "### Q18"
   ]
  },
  {
   "cell_type": "code",
   "execution_count": 18,
   "id": "c50c6dba",
   "metadata": {},
   "outputs": [
    {
     "data": {
      "text/plain": [
       "array([0.03321872, 0.24043824, 0.03461337, ..., 0.06872351, 0.10025536,\n",
       "       0.05851175])"
      ]
     },
     "execution_count": 18,
     "metadata": {},
     "output_type": "execute_result"
    }
   ],
   "source": [
    "#Ridge Regression\n",
    "from sklearn.linear_model import Ridge\n",
    "ridge_reg = Ridge(alpha= 0.4)\n",
    "ridge_reg.fit(x_train, y_train)\n",
    "\n",
    "ridge_predicted_values = ridge_reg.predict(x_test)\n",
    "ridge_predicted_values"
   ]
  },
  {
   "cell_type": "code",
   "execution_count": 19,
   "id": "1e2bfdab",
   "metadata": {},
   "outputs": [
    {
     "data": {
      "text/plain": [
       "0.088"
      ]
     },
     "execution_count": 19,
     "metadata": {},
     "output_type": "execute_result"
    }
   ],
   "source": [
    "ridge_rmse = np.sqrt(mean_squared_error(y_test, ridge_predicted_values))\n",
    "round(ridge_rmse, 3)"
   ]
  },
  {
   "cell_type": "markdown",
   "id": "7b507057",
   "metadata": {},
   "source": [
    "### Q19"
   ]
  },
  {
   "cell_type": "code",
   "execution_count": 20,
   "id": "c840ed35",
   "metadata": {},
   "outputs": [
    {
     "data": {
      "text/plain": [
       "Lasso(alpha=0.001)"
      ]
     },
     "execution_count": 20,
     "metadata": {},
     "output_type": "execute_result"
    }
   ],
   "source": [
    "#Lasso and Feature selection\n",
    "from sklearn.linear_model import Lasso\n",
    "lasso_reg = Lasso(alpha= 0.001 )\n",
    "lasso_reg.fit(x_train, y_train)"
   ]
  },
  {
   "cell_type": "code",
   "execution_count": 21,
   "id": "909f4c58",
   "metadata": {},
   "outputs": [
    {
     "data": {
      "text/html": [
       "<div>\n",
       "<style scoped>\n",
       "    .dataframe tbody tr th:only-of-type {\n",
       "        vertical-align: middle;\n",
       "    }\n",
       "\n",
       "    .dataframe tbody tr th {\n",
       "        vertical-align: top;\n",
       "    }\n",
       "\n",
       "    .dataframe thead th {\n",
       "        text-align: right;\n",
       "    }\n",
       "</style>\n",
       "<table border=\"1\" class=\"dataframe\">\n",
       "  <thead>\n",
       "    <tr style=\"text-align: right;\">\n",
       "      <th></th>\n",
       "      <th>Features</th>\n",
       "      <th>Linear_Model_Weight</th>\n",
       "    </tr>\n",
       "  </thead>\n",
       "  <tbody>\n",
       "    <tr>\n",
       "      <th>0</th>\n",
       "      <td>RH_out(CWS)</td>\n",
       "      <td>-0.049557</td>\n",
       "    </tr>\n",
       "    <tr>\n",
       "      <th>1</th>\n",
       "      <td>Hum_teenager_room</td>\n",
       "      <td>-0.000110</td>\n",
       "    </tr>\n",
       "    <tr>\n",
       "      <th>2</th>\n",
       "      <td>Temp_kitchen</td>\n",
       "      <td>0.000000</td>\n",
       "    </tr>\n",
       "    <tr>\n",
       "      <th>3</th>\n",
       "      <td>Tdewpoint(CWS)</td>\n",
       "      <td>0.000000</td>\n",
       "    </tr>\n",
       "    <tr>\n",
       "      <th>4</th>\n",
       "      <td>Visibility(CWS)</td>\n",
       "      <td>0.000000</td>\n",
       "    </tr>\n",
       "    <tr>\n",
       "      <th>5</th>\n",
       "      <td>Press_mm_hg(CWS)</td>\n",
       "      <td>-0.000000</td>\n",
       "    </tr>\n",
       "    <tr>\n",
       "      <th>6</th>\n",
       "      <td>Temp_out(CWS)</td>\n",
       "      <td>0.000000</td>\n",
       "    </tr>\n",
       "    <tr>\n",
       "      <th>7</th>\n",
       "      <td>Hum_parents_room</td>\n",
       "      <td>-0.000000</td>\n",
       "    </tr>\n",
       "    <tr>\n",
       "      <th>8</th>\n",
       "      <td>Temp_parents_room</td>\n",
       "      <td>-0.000000</td>\n",
       "    </tr>\n",
       "    <tr>\n",
       "      <th>9</th>\n",
       "      <td>Temp_teenager_room</td>\n",
       "      <td>0.000000</td>\n",
       "    </tr>\n",
       "    <tr>\n",
       "      <th>10</th>\n",
       "      <td>Hum_ironing_room</td>\n",
       "      <td>-0.000000</td>\n",
       "    </tr>\n",
       "    <tr>\n",
       "      <th>11</th>\n",
       "      <td>random_var_1</td>\n",
       "      <td>-0.000000</td>\n",
       "    </tr>\n",
       "    <tr>\n",
       "      <th>12</th>\n",
       "      <td>Temp_ironing_room</td>\n",
       "      <td>-0.000000</td>\n",
       "    </tr>\n",
       "    <tr>\n",
       "      <th>13</th>\n",
       "      <td>Temp_out(NS)</td>\n",
       "      <td>0.000000</td>\n",
       "    </tr>\n",
       "    <tr>\n",
       "      <th>14</th>\n",
       "      <td>Hum_bathroom</td>\n",
       "      <td>0.000000</td>\n",
       "    </tr>\n",
       "    <tr>\n",
       "      <th>15</th>\n",
       "      <td>Temp_bathroom</td>\n",
       "      <td>-0.000000</td>\n",
       "    </tr>\n",
       "    <tr>\n",
       "      <th>16</th>\n",
       "      <td>Hum_office_room</td>\n",
       "      <td>0.000000</td>\n",
       "    </tr>\n",
       "    <tr>\n",
       "      <th>17</th>\n",
       "      <td>Temp_office_room</td>\n",
       "      <td>-0.000000</td>\n",
       "    </tr>\n",
       "    <tr>\n",
       "      <th>18</th>\n",
       "      <td>Hum_aundry_room</td>\n",
       "      <td>0.000000</td>\n",
       "    </tr>\n",
       "    <tr>\n",
       "      <th>19</th>\n",
       "      <td>Temp_laundry_room</td>\n",
       "      <td>0.000000</td>\n",
       "    </tr>\n",
       "    <tr>\n",
       "      <th>20</th>\n",
       "      <td>Hum_living_room</td>\n",
       "      <td>-0.000000</td>\n",
       "    </tr>\n",
       "    <tr>\n",
       "      <th>21</th>\n",
       "      <td>Temp_living_room</td>\n",
       "      <td>0.000000</td>\n",
       "    </tr>\n",
       "    <tr>\n",
       "      <th>22</th>\n",
       "      <td>Hum_out(NS)</td>\n",
       "      <td>-0.000000</td>\n",
       "    </tr>\n",
       "    <tr>\n",
       "      <th>23</th>\n",
       "      <td>random_var_2</td>\n",
       "      <td>-0.000000</td>\n",
       "    </tr>\n",
       "    <tr>\n",
       "      <th>24</th>\n",
       "      <td>Windspeed(CWS)</td>\n",
       "      <td>0.002912</td>\n",
       "    </tr>\n",
       "    <tr>\n",
       "      <th>25</th>\n",
       "      <td>Hum_kitchen</td>\n",
       "      <td>0.017880</td>\n",
       "    </tr>\n",
       "  </tbody>\n",
       "</table>\n",
       "</div>"
      ],
      "text/plain": [
       "              Features  Linear_Model_Weight\n",
       "0          RH_out(CWS)            -0.049557\n",
       "1    Hum_teenager_room            -0.000110\n",
       "2         Temp_kitchen             0.000000\n",
       "3       Tdewpoint(CWS)             0.000000\n",
       "4      Visibility(CWS)             0.000000\n",
       "5     Press_mm_hg(CWS)            -0.000000\n",
       "6        Temp_out(CWS)             0.000000\n",
       "7     Hum_parents_room            -0.000000\n",
       "8    Temp_parents_room            -0.000000\n",
       "9   Temp_teenager_room             0.000000\n",
       "10    Hum_ironing_room            -0.000000\n",
       "11        random_var_1            -0.000000\n",
       "12   Temp_ironing_room            -0.000000\n",
       "13        Temp_out(NS)             0.000000\n",
       "14        Hum_bathroom             0.000000\n",
       "15       Temp_bathroom            -0.000000\n",
       "16     Hum_office_room             0.000000\n",
       "17    Temp_office_room            -0.000000\n",
       "18     Hum_aundry_room             0.000000\n",
       "19   Temp_laundry_room             0.000000\n",
       "20     Hum_living_room            -0.000000\n",
       "21    Temp_living_room             0.000000\n",
       "22         Hum_out(NS)            -0.000000\n",
       "23        random_var_2            -0.000000\n",
       "24      Windspeed(CWS)             0.002912\n",
       "25         Hum_kitchen             0.017880"
      ]
     },
     "execution_count": 21,
     "metadata": {},
     "output_type": "execute_result"
    }
   ],
   "source": [
    "lasso_reg_weight = get_weights_df(lasso_reg, x_train, 'Linear_Model_Weight' )\n",
    "lasso_reg_weight"
   ]
  },
  {
   "cell_type": "markdown",
   "id": "2bbb4b17",
   "metadata": {},
   "source": [
    "### Q20"
   ]
  },
  {
   "cell_type": "code",
   "execution_count": 22,
   "id": "3f3adf57",
   "metadata": {},
   "outputs": [
    {
     "data": {
      "text/plain": [
       "array([0.07370267, 0.08143458, 0.07716072, ..., 0.07792848, 0.09034412,\n",
       "       0.08359255])"
      ]
     },
     "execution_count": 22,
     "metadata": {},
     "output_type": "execute_result"
    }
   ],
   "source": [
    "lasso_predicted_values = lasso_reg.predict(x_test)\n",
    "lasso_predicted_values"
   ]
  },
  {
   "cell_type": "code",
   "execution_count": 23,
   "id": "c2ad2ecf",
   "metadata": {},
   "outputs": [
    {
     "data": {
      "text/plain": [
       "0.094"
      ]
     },
     "execution_count": 23,
     "metadata": {},
     "output_type": "execute_result"
    }
   ],
   "source": [
    "lasso_rmse = np.sqrt(mean_squared_error(y_test, lasso_predicted_values))\n",
    "round(lasso_rmse, 3)"
   ]
  },
  {
   "cell_type": "code",
   "execution_count": null,
   "id": "ce90f4ec",
   "metadata": {},
   "outputs": [],
   "source": []
  }
 ],
 "metadata": {
  "kernelspec": {
   "display_name": "Python 3",
   "language": "python",
   "name": "python3"
  },
  "language_info": {
   "codemirror_mode": {
    "name": "ipython",
    "version": 3
   },
   "file_extension": ".py",
   "mimetype": "text/x-python",
   "name": "python",
   "nbconvert_exporter": "python",
   "pygments_lexer": "ipython3",
   "version": "3.8.8"
  }
 },
 "nbformat": 4,
 "nbformat_minor": 5
}
